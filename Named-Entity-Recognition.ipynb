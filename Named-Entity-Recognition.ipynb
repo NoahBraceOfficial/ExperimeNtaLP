{
 "cells": [
  {
   "cell_type": "markdown",
   "metadata": {},
   "source": [
    "![JohnSnowLabs](https://nlp.johnsnowlabs.com/assets/images/logo.png)"
   ]
  },
  {
   "cell_type": "markdown",
   "metadata": {},
   "source": [
    "## Named-entity recognition with Deep Learning"
   ]
  },
  {
   "cell_type": "markdown",
   "metadata": {},
   "source": [
    "<p><strong>Named-Entity recognition</strong> is a well-known technique in information extraction it is also known as&nbsp;<strong>entity identification</strong>,&nbsp;<strong>entity chunking</strong>&nbsp;and&nbsp;<strong>entity extraction.</strong>&nbsp;Knowing the relevant tags for each article help in automatically categorizing the articles in defined hierarchies and enable smooth content discovery. This pipeline is based on&nbsp;<strong>NerDLApproach</strong> annotator with <strong>Char CNN - BiLSTM</strong> and <strong>GloVe Embeddings</strong> on the <strong>OntoNotes</strong> corpus and supports the identification of 18 entities.</p><p>Following NER types are supported in this pipeline:</p><table><thead><tr><th>Type</th><th>Description</th></tr></thead><tbody><tr><td><code>PERSON</code></td><td>People, including fictional.</td></tr><tr><td><code>NORP</code></td><td>Nationalities or religious or political groups.</td></tr><tr><td><code>FAC</code></td><td>Buildings, airports, highways, bridges, etc.</td></tr><tr><td><code>ORG</code></td><td>Companies, agencies, institutions, etc.</td></tr><tr><td><code>GPE</code></td><td>Countries, cities, states.</td></tr><tr><td><code>LOC</code></td><td>Non-GPE locations, mountain ranges, bodies of water.</td></tr><tr><td><code>PRODUCT</code></td><td>Objects, vehicles, foods, etc. (Not services.)</td></tr><tr><td><code>EVENT</code></td><td>Named hurricanes, battles, wars, sports events, etc.</td></tr><tr><td><code>WORK_OF_ART</code></td><td>Titles of books, songs, etc.</td></tr><tr><td><code>LAW</code></td><td>Named documents made into laws.</td></tr><tr><td><code>LANGUAGE</code></td><td>Any named language.</td></tr><tr><td><code>DATE</code></td><td>Absolute or relative dates or periods.</td></tr><tr><td><code>TIME</code></td><td>Times smaller than a day.</td></tr><tr><td><code>PERCENT</code></td><td>Percentage, including &rdquo;%&ldquo;.</td></tr><tr><td><code>MONEY</code></td><td>Monetary values, including unit.</td></tr><tr><td><code>QUANTITY</code></td><td>Measurements, as of weight or distance.</td></tr><tr><td><code>ORDINAL</code></td><td>&ldquo;first&rdquo;, &ldquo;second&rdquo;, etc.</td></tr><tr><td><code>CARDINAL</code></td><td>Numerals that do not fall under another type.</td></tr></tbody></table>"
   ]
  },
  {
   "cell_type": "code",
   "execution_count": 1,
   "metadata": {},
   "outputs": [
    {
     "name": "stdout",
     "output_type": "stream",
     "text": [
      "Spark NLP version:  2.3.4\n",
      "Apache Spark version:  2.4.3\n"
     ]
    }
   ],
   "source": [
    "import sparknlp \n",
    "\n",
    "spark = sparknlp.start()\n",
    "\n",
    "print(\"Spark NLP version: \", sparknlp.version())\n",
    "print(\"Apache Spark version: \", spark.version)\n"
   ]
  },
  {
   "cell_type": "code",
   "execution_count": 2,
   "metadata": {},
   "outputs": [],
   "source": [
    "from sparknlp.pretrained import PretrainedPipeline\n",
    "from sparknlp.base import *"
   ]
  },
  {
   "cell_type": "markdown",
   "metadata": {},
   "source": [
    "Now, we load a `onto_recognize_entities_sm` pipeline model which contains the following annotators:\n",
    "Tokenizer, GloVe embeddings, and NER model trained by Deep Learning"
   ]
  },
  {
   "cell_type": "code",
   "execution_count": 3,
   "metadata": {
    "scrolled": true
   },
   "outputs": [
    {
     "name": "stdout",
     "output_type": "stream",
     "text": [
      "onto_recognize_entities_sm download started this may take some time.\n",
      "Approx size to download 158 MB\n",
      "[OK!]\n"
     ]
    }
   ],
   "source": [
    "pipeline = PretrainedPipeline('onto_recognize_entities_sm')"
   ]
  },
  {
   "cell_type": "markdown",
   "metadata": {},
   "source": [
    "NOTE: We are using `onto_recognize_entities_sm` which is the smaller version. You can use `onto_recognize_entities_lg` which is a larger pipeline model if you have enough resources."
   ]
  },
  {
   "cell_type": "markdown",
   "metadata": {},
   "source": [
    "Let's annotate our `text` by pretrained `pipeline`:"
   ]
  },
  {
   "cell_type": "code",
   "execution_count": 4,
   "metadata": {},
   "outputs": [],
   "source": [
    "text = '''Barclays misled shareholders and the public about one of the biggest investments in the bank's history, a BBC Panorama investigation has found.\n",
    "The bank announced in 2008 that Manchester City owner Sheikh Mansour had agreed to invest more than £3bn.\n",
    "But the BBC found that the money, which helped Barclays avoid a bailout by British taxpayers, actually came from the Abu Dhabi government.\n",
    "Barclays said the mistake in its accounts was \"a drafting error\".\n",
    "Unlike RBS and Lloyds TSB, Barclays narrowly avoided having to request a government bailout late in 2008 after it was rescued by £7bn worth of new investment, most of which came from the Gulf states of Qatar and Abu Dhabi.\n",
    "The S&P 500's price to earnings multiple is 71% higher than Apple's, and if Apple were simply valued at the same multiple, its share price would be $840, which is 52% higher than its current price.'''\n",
    "\n",
    "result = pipeline.annotate(text)"
   ]
  },
  {
   "cell_type": "markdown",
   "metadata": {},
   "source": [
    "We can see the output of each annotator below. This one is doing so many things at once!"
   ]
  },
  {
   "cell_type": "code",
   "execution_count": 5,
   "metadata": {},
   "outputs": [
    {
     "data": {
      "text/plain": [
       "['entities', 'document', 'token', 'ner', 'embeddings', 'sentence']"
      ]
     },
     "execution_count": 5,
     "metadata": {},
     "output_type": "execute_result"
    }
   ],
   "source": [
    "list(result.keys())"
   ]
  },
  {
   "cell_type": "code",
   "execution_count": 6,
   "metadata": {},
   "outputs": [
    {
     "data": {
      "text/plain": [
       "[\"Barclays misled shareholders and the public about one of the biggest investments in the bank's history, a BBC Panorama investigation has found.\",\n",
       " 'The bank announced in 2008 that Manchester City owner Sheikh Mansour had agreed to invest more than £3bn.',\n",
       " 'But the BBC found that the money, which helped Barclays avoid a bailout by British taxpayers, actually came from the Abu Dhabi government.',\n",
       " 'Barclays said the mistake in its accounts was \"a drafting error\".',\n",
       " 'Unlike RBS and Lloyds TSB, Barclays narrowly avoided having to request a government bailout late in 2008 after it was rescued by £7bn worth of new investment, most of which came from the Gulf states of Qatar and Abu Dhabi.',\n",
       " \"The S&P 500's price to earnings multiple is 71% higher than Apple's, and if Apple were simply valued at the same multiple, its share price would be $840, which is 52% higher than its current price.\"]"
      ]
     },
     "execution_count": 6,
     "metadata": {},
     "output_type": "execute_result"
    }
   ],
   "source": [
    "result['sentence']"
   ]
  },
  {
   "cell_type": "code",
   "execution_count": 7,
   "metadata": {},
   "outputs": [
    {
     "data": {
      "text/plain": [
       "['Barclays',\n",
       " 'about one',\n",
       " 'BBC Panorama',\n",
       " '2008',\n",
       " 'Manchester City',\n",
       " 'Sheikh Mansour',\n",
       " 'more than £3bn',\n",
       " 'BBC',\n",
       " 'Barclays',\n",
       " 'British',\n",
       " 'Abu Dhabi',\n",
       " 'Barclays',\n",
       " 'RBS',\n",
       " 'Lloyds TSB',\n",
       " 'Barclays',\n",
       " '2008',\n",
       " '7bn',\n",
       " 'Gulf',\n",
       " 'Qatar',\n",
       " 'Abu Dhabi',\n",
       " 'S&P',\n",
       " \"500's\",\n",
       " '71%',\n",
       " 'Apple',\n",
       " 'Apple',\n",
       " '$840',\n",
       " '52%']"
      ]
     },
     "execution_count": 7,
     "metadata": {},
     "output_type": "execute_result"
    }
   ],
   "source": [
    "result['entities']"
   ]
  },
  {
   "cell_type": "code",
   "execution_count": 8,
   "metadata": {},
   "outputs": [
    {
     "data": {
      "text/plain": [
       "[('Barclays', 'B-ORG'),\n",
       " ('misled', 'O'),\n",
       " ('shareholders', 'O'),\n",
       " ('and', 'O'),\n",
       " ('the', 'O'),\n",
       " ('public', 'O'),\n",
       " ('about', 'B-CARDINAL'),\n",
       " ('one', 'I-CARDINAL'),\n",
       " ('of', 'O'),\n",
       " ('the', 'O'),\n",
       " ('biggest', 'O'),\n",
       " ('investments', 'O'),\n",
       " ('in', 'O'),\n",
       " ('the', 'O'),\n",
       " ('bank', 'O'),\n",
       " (\"'s\", 'O'),\n",
       " ('history', 'O'),\n",
       " (',', 'O'),\n",
       " ('a', 'O'),\n",
       " ('BBC', 'B-ORG'),\n",
       " ('Panorama', 'I-ORG'),\n",
       " ('investigation', 'O'),\n",
       " ('has', 'O'),\n",
       " ('found', 'O'),\n",
       " ('.', 'O'),\n",
       " ('The', 'O'),\n",
       " ('bank', 'O'),\n",
       " ('announced', 'O'),\n",
       " ('in', 'O'),\n",
       " ('2008', 'B-DATE'),\n",
       " ('that', 'O'),\n",
       " ('Manchester', 'B-GPE'),\n",
       " ('City', 'I-GPE'),\n",
       " ('owner', 'O'),\n",
       " ('Sheikh', 'B-PERSON'),\n",
       " ('Mansour', 'I-PERSON'),\n",
       " ('had', 'O'),\n",
       " ('agreed', 'O'),\n",
       " ('to', 'O'),\n",
       " ('invest', 'O'),\n",
       " ('more', 'B-MONEY'),\n",
       " ('than', 'I-MONEY'),\n",
       " ('£', 'I-MONEY'),\n",
       " ('3bn', 'I-MONEY'),\n",
       " ('.', 'O'),\n",
       " ('But', 'O'),\n",
       " ('the', 'O'),\n",
       " ('BBC', 'B-ORG'),\n",
       " ('found', 'O'),\n",
       " ('that', 'O'),\n",
       " ('the', 'O'),\n",
       " ('money', 'O'),\n",
       " (',', 'O'),\n",
       " ('which', 'O'),\n",
       " ('helped', 'O'),\n",
       " ('Barclays', 'B-ORG'),\n",
       " ('avoid', 'O'),\n",
       " ('a', 'O'),\n",
       " ('bailout', 'O'),\n",
       " ('by', 'O'),\n",
       " ('British', 'B-NORP'),\n",
       " ('taxpayers', 'O'),\n",
       " (',', 'O'),\n",
       " ('actually', 'O'),\n",
       " ('came', 'O'),\n",
       " ('from', 'O'),\n",
       " ('the', 'O'),\n",
       " ('Abu', 'B-GPE'),\n",
       " ('Dhabi', 'I-GPE'),\n",
       " ('government', 'O'),\n",
       " ('.', 'O'),\n",
       " ('Barclays', 'B-ORG'),\n",
       " ('said', 'O'),\n",
       " ('the', 'O'),\n",
       " ('mistake', 'O'),\n",
       " ('in', 'O'),\n",
       " ('its', 'O'),\n",
       " ('accounts', 'O'),\n",
       " ('was', 'O'),\n",
       " ('\"', 'O'),\n",
       " ('a', 'O'),\n",
       " ('drafting', 'O'),\n",
       " ('error', 'O'),\n",
       " ('\"', 'O'),\n",
       " ('.', 'O'),\n",
       " ('Unlike', 'O'),\n",
       " ('RBS', 'B-ORG'),\n",
       " ('and', 'O'),\n",
       " ('Lloyds', 'B-ORG'),\n",
       " ('TSB', 'I-ORG'),\n",
       " (',', 'O'),\n",
       " ('Barclays', 'B-ORG'),\n",
       " ('narrowly', 'O'),\n",
       " ('avoided', 'O'),\n",
       " ('having', 'O'),\n",
       " ('to', 'O'),\n",
       " ('request', 'O'),\n",
       " ('a', 'O'),\n",
       " ('government', 'O'),\n",
       " ('bailout', 'O'),\n",
       " ('late', 'O'),\n",
       " ('in', 'O'),\n",
       " ('2008', 'B-DATE'),\n",
       " ('after', 'O'),\n",
       " ('it', 'O'),\n",
       " ('was', 'O'),\n",
       " ('rescued', 'O'),\n",
       " ('by', 'O'),\n",
       " ('£', 'O'),\n",
       " ('7bn', 'B-MONEY'),\n",
       " ('worth', 'O'),\n",
       " ('of', 'O'),\n",
       " ('new', 'O'),\n",
       " ('investment', 'O'),\n",
       " (',', 'O'),\n",
       " ('most', 'O'),\n",
       " ('of', 'O'),\n",
       " ('which', 'O'),\n",
       " ('came', 'O'),\n",
       " ('from', 'O'),\n",
       " ('the', 'O'),\n",
       " ('Gulf', 'B-LOC'),\n",
       " ('states', 'O'),\n",
       " ('of', 'O'),\n",
       " ('Qatar', 'B-GPE'),\n",
       " ('and', 'O'),\n",
       " ('Abu', 'B-GPE'),\n",
       " ('Dhabi', 'I-GPE'),\n",
       " ('.', 'O'),\n",
       " ('The', 'O'),\n",
       " ('S&P', 'B-ORG'),\n",
       " (\"500's\", 'B-DATE'),\n",
       " ('price', 'O'),\n",
       " ('to', 'O'),\n",
       " ('earnings', 'O'),\n",
       " ('multiple', 'O'),\n",
       " ('is', 'O'),\n",
       " ('71', 'B-PERCENT'),\n",
       " ('%', 'I-PERCENT'),\n",
       " ('higher', 'O'),\n",
       " ('than', 'O'),\n",
       " ('Apple', 'B-ORG'),\n",
       " (\"'s\", 'O'),\n",
       " (',', 'O'),\n",
       " ('and', 'O'),\n",
       " ('if', 'O'),\n",
       " ('Apple', 'B-ORG'),\n",
       " ('were', 'O'),\n",
       " ('simply', 'O'),\n",
       " ('valued', 'O'),\n",
       " ('at', 'O'),\n",
       " ('the', 'O'),\n",
       " ('same', 'O'),\n",
       " ('multiple', 'O'),\n",
       " (',', 'O'),\n",
       " ('its', 'O'),\n",
       " ('share', 'O'),\n",
       " ('price', 'O'),\n",
       " ('would', 'O'),\n",
       " ('be', 'O'),\n",
       " ('$840', 'B-CARDINAL'),\n",
       " (',', 'O'),\n",
       " ('which', 'O'),\n",
       " ('is', 'O'),\n",
       " ('52', 'B-PERCENT'),\n",
       " ('%', 'I-PERCENT'),\n",
       " ('higher', 'O'),\n",
       " ('than', 'O'),\n",
       " ('its', 'O'),\n",
       " ('current', 'O'),\n",
       " ('price', 'O'),\n",
       " ('.', 'O')]"
      ]
     },
     "execution_count": 8,
     "metadata": {},
     "output_type": "execute_result"
    }
   ],
   "source": [
    "list(zip(result['token'], result['ner']))"
   ]
  },
  {
   "cell_type": "code",
   "execution_count": null,
   "metadata": {},
   "outputs": [],
   "source": []
  }
 ],
 "metadata": {
  "kernelspec": {
   "display_name": "Python 3",
   "language": "python",
   "name": "python3"
  },
  "language_info": {
   "codemirror_mode": {
    "name": "ipython",
    "version": 3
   },
   "file_extension": ".py",
   "mimetype": "text/x-python",
   "name": "python",
   "nbconvert_exporter": "python",
   "pygments_lexer": "ipython3",
   "version": "3.6.9"
  }
 },
 "nbformat": 4,
 "nbformat_minor": 2
}
